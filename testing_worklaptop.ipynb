{
 "cells": [
  {
   "cell_type": "code",
   "execution_count": 33,
   "id": "f6919b33",
   "metadata": {},
   "outputs": [],
   "source": [
    "import discord\n",
    "import os\n",
    "from dotenv import load_dotenv\n",
    "\n",
    "from api_keys import *\n",
    "from command_handling import *\n",
    "\n",
    "from DESTINY import basics\n",
    "from DESTINY import manifestation\n",
    "\n",
    "from selenium import webdriver\n",
    "\n",
    "import bs4\n",
    "import urllib\n",
    "\n",
    "import numpy as np\n",
    "import cv2\n",
    "import matplotlib.pyplot as plt"
   ]
  },
  {
   "cell_type": "code",
   "execution_count": 2,
   "id": "25f86622",
   "metadata": {},
   "outputs": [
    {
     "name": "stdout",
     "output_type": "stream",
     "text": [
      "Regenerating manifest...\n",
      "manifest download done\n",
      "Unzipped\n",
      "Connected\n",
      "Generating DestinyPlaceDefinition dictionary....\n",
      "Generating DestinyActivityDefinition dictionary....\n",
      "Generating DestinyActivityTypeDefinition dictionary....\n",
      "Generating DestinyClassDefinition dictionary....\n",
      "Generating DestinyGenderDefinition dictionary....\n",
      "Generating DestinyInventoryBucketDefinition dictionary....\n",
      "Generating DestinyRaceDefinition dictionary....\n",
      "Generating DestinyTalentGridDefinition dictionary....\n",
      "Generating DestinyUnlockDefinition dictionary....\n",
      "Generating DestinyMaterialRequirementSetDefinition dictionary....\n",
      "Generating DestinySandboxPerkDefinition dictionary....\n",
      "Generating DestinyStatGroupDefinition dictionary....\n",
      "Generating DestinyFactionDefinition dictionary....\n",
      "Generating DestinyVendorGroupDefinition dictionary....\n",
      "Generating DestinyRewardSourceDefinition dictionary....\n",
      "Generating DestinyItemCategoryDefinition dictionary....\n",
      "Generating DestinyDamageTypeDefinition dictionary....\n",
      "Generating DestinyActivityModeDefinition dictionary....\n",
      "Generating DestinyMedalTierDefinition dictionary....\n",
      "Generating DestinyAchievementDefinition dictionary....\n",
      "Generating DestinyActivityGraphDefinition dictionary....\n",
      "Generating DestinyBondDefinition dictionary....\n",
      "Generating DestinyCollectibleDefinition dictionary....\n",
      "Generating DestinyDestinationDefinition dictionary....\n",
      "Generating DestinyEquipmentSlotDefinition dictionary....\n",
      "Generating DestinyStatDefinition dictionary....\n",
      "Generating DestinyInventoryItemDefinition dictionary....\n",
      "Generating DestinyItemTierTypeDefinition dictionary....\n",
      "Generating DestinyLocationDefinition dictionary....\n",
      "Generating DestinyLoreDefinition dictionary....\n",
      "Generating DestinyMetricDefinition dictionary....\n",
      "Generating DestinyObjectiveDefinition dictionary....\n",
      "Generating DestinyPlugSetDefinition dictionary....\n",
      "Generating DestinyPowerCapDefinition dictionary....\n",
      "Generating DestinyPresentationNodeDefinition dictionary....\n",
      "Generating DestinyProgressionDefinition dictionary....\n",
      "Generating DestinyProgressionLevelRequirementDefinition dictionary....\n",
      "Generating DestinyRecordDefinition dictionary....\n",
      "Generating DestinySackRewardItemListDefinition dictionary....\n",
      "Generating DestinySandboxPatternDefinition dictionary....\n",
      "Generating DestinySeasonDefinition dictionary....\n",
      "Generating DestinySeasonPassDefinition dictionary....\n",
      "Generating DestinySocketCategoryDefinition dictionary....\n",
      "Generating DestinySocketTypeDefinition dictionary....\n",
      "Generating DestinyTraitDefinition dictionary....\n",
      "Generating DestinyTraitCategoryDefinition dictionary....\n",
      "Generating DestinyVendorDefinition dictionary....\n",
      "Generating DestinyMilestoneDefinition dictionary....\n",
      "Generating DestinyActivityModifierDefinition dictionary....\n",
      "Generating DestinyReportReasonCategoryDefinition dictionary....\n",
      "Generating DestinyArtifactDefinition dictionary....\n",
      "Generating DestinyBreakerTypeDefinition dictionary....\n",
      "Generating DestinyChecklistDefinition dictionary....\n",
      "Generating DestinyEnergyTypeDefinition dictionary....\n",
      "Generating DestinyHistoricalStatsDefinition dictionary....\n",
      "Dictionary Generated!\n",
      "'manifest.pickle' created!\n",
      "DONE!\n"
     ]
    }
   ],
   "source": [
    "all_data = manifestation.get_all_data(regen=True)"
   ]
  },
  {
   "cell_type": "code",
   "execution_count": 3,
   "id": "6de3b2e5",
   "metadata": {},
   "outputs": [],
   "source": [
    "weapon_dict = manifestation.get_weapon_dict(all_data)"
   ]
  },
  {
   "cell_type": "code",
   "execution_count": 4,
   "id": "7538c9b7",
   "metadata": {},
   "outputs": [],
   "source": [
    "perk_dict = manifestation.get_perk_dict(all_data)"
   ]
  },
  {
   "cell_type": "code",
   "execution_count": 5,
   "id": "5cfef74e",
   "metadata": {},
   "outputs": [
    {
     "name": "stdout",
     "output_type": "stream",
     "text": [
      "DestinyPlaceDefinition\n",
      "DestinyActivityDefinition\n",
      "DestinyActivityTypeDefinition\n",
      "DestinyClassDefinition\n",
      "DestinyGenderDefinition\n",
      "DestinyInventoryBucketDefinition\n",
      "DestinyRaceDefinition\n",
      "DestinyTalentGridDefinition\n",
      "DestinyUnlockDefinition\n",
      "DestinyMaterialRequirementSetDefinition\n",
      "DestinySandboxPerkDefinition\n",
      "DestinyStatGroupDefinition\n",
      "DestinyFactionDefinition\n",
      "DestinyVendorGroupDefinition\n",
      "DestinyRewardSourceDefinition\n",
      "DestinyItemCategoryDefinition\n",
      "DestinyDamageTypeDefinition\n",
      "DestinyActivityModeDefinition\n",
      "DestinyMedalTierDefinition\n",
      "DestinyAchievementDefinition\n",
      "DestinyActivityGraphDefinition\n",
      "DestinyBondDefinition\n",
      "DestinyCollectibleDefinition\n",
      "DestinyDestinationDefinition\n",
      "DestinyEquipmentSlotDefinition\n",
      "DestinyStatDefinition\n",
      "DestinyInventoryItemDefinition\n",
      "DestinyItemTierTypeDefinition\n",
      "DestinyLocationDefinition\n",
      "DestinyLoreDefinition\n",
      "DestinyMetricDefinition\n",
      "DestinyObjectiveDefinition\n",
      "DestinyPlugSetDefinition\n",
      "DestinyPowerCapDefinition\n",
      "DestinyPresentationNodeDefinition\n",
      "DestinyProgressionDefinition\n",
      "DestinyProgressionLevelRequirementDefinition\n",
      "DestinyRecordDefinition\n",
      "DestinySackRewardItemListDefinition\n",
      "DestinySandboxPatternDefinition\n",
      "DestinySeasonDefinition\n",
      "DestinySeasonPassDefinition\n",
      "DestinySocketCategoryDefinition\n",
      "DestinySocketTypeDefinition\n",
      "DestinyTraitDefinition\n",
      "DestinyTraitCategoryDefinition\n",
      "DestinyVendorDefinition\n",
      "DestinyMilestoneDefinition\n",
      "DestinyActivityModifierDefinition\n",
      "DestinyReportReasonCategoryDefinition\n",
      "DestinyArtifactDefinition\n",
      "DestinyBreakerTypeDefinition\n",
      "DestinyChecklistDefinition\n",
      "DestinyEnergyTypeDefinition\n",
      "DestinyHistoricalStatsDefinition\n"
     ]
    }
   ],
   "source": [
    "for ep in all_data.keys():\n",
    "    print(ep)"
   ]
  },
  {
   "cell_type": "code",
   "execution_count": 48,
   "id": "ee111f18",
   "metadata": {},
   "outputs": [],
   "source": [
    "def scrape_image(searchterm=\"pencil\"):\n",
    "    \n",
    "    # current problem is this maxes out somewhere before 50\n",
    "    # probably need to tell selenium to scroll down if you want more results\n",
    "    n = np.random.randint(200)\n",
    "    n = 21\n",
    "    \n",
    "    url = \"https://www.google.co.in/search?q=\"+searchterm+\"&source=lnms&tbm=isch\"\n",
    "    driver = webdriver.Chrome()\n",
    "    driver.get(url)\n",
    "    print(driver)\n",
    "    \n",
    "    img = driver.find_element_by_xpath(\n",
    "          '//*[@id=\"islrg\"]/div[1]/div[' +\n",
    "          str(n) + ']/a[1]/div[1]/img')\n",
    "    \n",
    "    img.screenshot(\"test.png\")\n",
    "    \n",
    "    img = cv2.imread(\"test.png\")\n",
    "    plt.imshow(img)\n",
    "    \n",
    "    driver.close()"
   ]
  },
  {
   "cell_type": "code",
   "execution_count": 49,
   "id": "8f10a9ed",
   "metadata": {},
   "outputs": [
    {
     "name": "stdout",
     "output_type": "stream",
     "text": [
      "<selenium.webdriver.chrome.webdriver.WebDriver (session=\"0260e80c8cca0055f45e7181eb582a73\")>\n"
     ]
    },
    {
     "name": "stderr",
     "output_type": "stream",
     "text": [
      "/var/folders/nz/xv2gt09j5t12mqb3cyjg_s540000gn/T/ipykernel_7118/1302834002.py:13: DeprecationWarning: find_element_by_* commands are deprecated. Please use find_element() instead\n",
      "  img = driver.find_element_by_xpath(\n"
     ]
    },
    {
     "data": {
      "image/png": "[encoded data removed]",
      "text/plain": [
       "<Figure size 432x288 with 1 Axes>"
      ]
     },
     "metadata": {
      "needs_background": "light"
     },
     "output_type": "display_data"
    }
   ],
   "source": [
    "scrape_image()"
   ]
  },
  {
   "cell_type": "code",
   "execution_count": 10,
   "id": "3217b938",
   "metadata": {},
   "outputs": [
    {
     "data": {
      "text/plain": [
       "46"
      ]
     },
     "execution_count": 10,
     "metadata": {},
     "output_type": "execute_result"
    }
   ],
   "source": [
    "np.random.randint(50)"
   ]
  },
  {
   "cell_type": "code",
   "execution_count": null,
   "id": "77b5f372",
   "metadata": {},
   "outputs": [],
   "source": []
  }
 ],
 "metadata": {
  "kernelspec": {
   "display_name": "Python 3 (ipykernel)",
   "language": "python",
   "name": "python3"
  },
  "language_info": {
   "codemirror_mode": {
    "name": "ipython",
    "version": 3
   },
   "file_extension": ".py",
   "mimetype": "text/x-python",
   "name": "python",
   "nbconvert_exporter": "python",
   "pygments_lexer": "ipython3",
   "version": "3.9.7"
  }
 },
 "nbformat": 4,
 "nbformat_minor": 5
}
